{
  "nbformat": 4,
  "nbformat_minor": 0,
  "metadata": {
    "colab": {
      "provenance": []
    },
    "kernelspec": {
      "name": "python3",
      "display_name": "Python 3"
    },
    "language_info": {
      "name": "python"
    },
    "widgets": {
      "application/vnd.jupyter.widget-state+json": {
        "5b369ecd2ed34da69255a0f5889a5e0c": {
          "model_module": "catboost-widget",
          "model_name": "CatboostWidgetModel",
          "model_module_version": "^1.0.0",
          "state": {
            "_dom_classes": [],
            "_model_module": "catboost-widget",
            "_model_module_version": "^1.0.0",
            "_model_name": "CatboostWidgetModel",
            "_view_count": null,
            "_view_module": "catboost-widget",
            "_view_module_version": "^1.0.0",
            "_view_name": "CatboostWidgetView",
            "data": {
              "catboost_info": {
                "path": "catboost_info",
                "name": "catboost_info",
                "content": {
                  "passed_iterations": 24,
                  "total_iterations": 25,
                  "data": {
                    "iterations": [
                      {
                        "learn": [
                          1.191493012
                        ],
                        "iteration": 0,
                        "passed_time": 1.556716749,
                        "remaining_time": 37.36120198,
                        "test": [
                          1.181981823
                        ]
                      },
                      {
                        "learn": [
                          1.042896167
                        ],
                        "iteration": 1,
                        "passed_time": 2.995402166,
                        "remaining_time": 34.44712491,
                        "test": [
                          1.03442251
                        ]
                      },
                      {
                        "learn": [
                          0.9569969281
                        ],
                        "iteration": 2,
                        "passed_time": 4.367905694,
                        "remaining_time": 32.03130843,
                        "test": [
                          0.9497491918
                        ]
                      },
                      {
                        "learn": [
                          0.9099869013
                        ],
                        "iteration": 3,
                        "passed_time": 5.750766869,
                        "remaining_time": 30.19152606,
                        "test": [
                          0.9048844079
                        ]
                      },
                      {
                        "learn": [
                          0.8470211223
                        ],
                        "iteration": 4,
                        "passed_time": 7.153922219,
                        "remaining_time": 28.61568887,
                        "test": [
                          0.7933205975
                        ]
                      },
                      {
                        "learn": [
                          0.8181784557
                        ],
                        "iteration": 5,
                        "passed_time": 8.501509573,
                        "remaining_time": 26.92144698,
                        "test": [
                          0.7517640449
                        ]
                      },
                      {
                        "learn": [
                          0.8003958701
                        ],
                        "iteration": 6,
                        "passed_time": 9.872907479,
                        "remaining_time": 25.38747637,
                        "test": [
                          0.7230743586
                        ]
                      },
                      {
                        "learn": [
                          0.7924214877
                        ],
                        "iteration": 7,
                        "passed_time": 11.24679717,
                        "remaining_time": 23.89944399,
                        "test": [
                          0.7156666667
                        ]
                      },
                      {
                        "learn": [
                          0.7854952075
                        ],
                        "iteration": 8,
                        "passed_time": 12.59536825,
                        "remaining_time": 22.39176578,
                        "test": [
                          0.7073321316
                        ]
                      },
                      {
                        "learn": [
                          0.7846559381
                        ],
                        "iteration": 9,
                        "passed_time": 13.1703949,
                        "remaining_time": 19.75559235,
                        "test": [
                          0.7058006524
                        ]
                      },
                      {
                        "learn": [
                          0.7767591189
                        ],
                        "iteration": 10,
                        "passed_time": 14.53716038,
                        "remaining_time": 18.50184048,
                        "test": [
                          0.6959554456
                        ]
                      },
                      {
                        "learn": [
                          0.7723901264
                        ],
                        "iteration": 11,
                        "passed_time": 15.89310262,
                        "remaining_time": 17.21752783,
                        "test": [
                          0.6900952944
                        ]
                      },
                      {
                        "learn": [
                          0.7614319137
                        ],
                        "iteration": 12,
                        "passed_time": 17.25810057,
                        "remaining_time": 15.93055437,
                        "test": [
                          0.6790260054
                        ]
                      },
                      {
                        "learn": [
                          0.7588649782
                        ],
                        "iteration": 13,
                        "passed_time": 18.02278981,
                        "remaining_time": 14.16076342,
                        "test": [
                          0.6761062911
                        ]
                      },
                      {
                        "learn": [
                          0.7554400997
                        ],
                        "iteration": 14,
                        "passed_time": 19.39340809,
                        "remaining_time": 12.92893872,
                        "test": [
                          0.6713344142
                        ]
                      },
                      {
                        "learn": [
                          0.7510399932
                        ],
                        "iteration": 15,
                        "passed_time": 20.76402929,
                        "remaining_time": 11.67976648,
                        "test": [
                          0.6678747697
                        ]
                      },
                      {
                        "learn": [
                          0.7482128092
                        ],
                        "iteration": 16,
                        "passed_time": 22.12654981,
                        "remaining_time": 10.41249403,
                        "test": [
                          0.6659277223
                        ]
                      },
                      {
                        "learn": [
                          0.7455250998
                        ],
                        "iteration": 17,
                        "passed_time": 23.47704843,
                        "remaining_time": 9.129963277,
                        "test": [
                          0.6607128301
                        ]
                      },
                      {
                        "learn": [
                          0.7404311183
                        ],
                        "iteration": 18,
                        "passed_time": 24.82967526,
                        "remaining_time": 7.840950081,
                        "test": [
                          0.6561556533
                        ]
                      },
                      {
                        "learn": [
                          0.7383999702
                        ],
                        "iteration": 19,
                        "passed_time": 26.01121332,
                        "remaining_time": 6.502803331,
                        "test": [
                          0.6538247771
                        ]
                      },
                      {
                        "learn": [
                          0.7356634016
                        ],
                        "iteration": 20,
                        "passed_time": 27.38533368,
                        "remaining_time": 5.216254034,
                        "test": [
                          0.6513723078
                        ]
                      },
                      {
                        "learn": [
                          0.7345066076
                        ],
                        "iteration": 21,
                        "passed_time": 28.74122877,
                        "remaining_time": 3.919258468,
                        "test": [
                          0.6505680208
                        ]
                      },
                      {
                        "learn": [
                          0.7265983379
                        ],
                        "iteration": 22,
                        "passed_time": 30.11577166,
                        "remaining_time": 2.618762753,
                        "test": [
                          0.6419232732
                        ]
                      },
                      {
                        "learn": [
                          0.7216204194
                        ],
                        "iteration": 23,
                        "passed_time": 31.47845449,
                        "remaining_time": 1.31160227,
                        "test": [
                          0.6386081254
                        ]
                      },
                      {
                        "learn": [
                          0.7162732189
                        ],
                        "iteration": 24,
                        "passed_time": 32.82575708,
                        "remaining_time": 0,
                        "test": [
                          0.6363635071
                        ]
                      }
                    ],
                    "meta": {
                      "test_sets": [
                        "test"
                      ],
                      "test_metrics": [
                        {
                          "best_value": "Min",
                          "name": "MultiClass"
                        }
                      ],
                      "learn_metrics": [
                        {
                          "best_value": "Min",
                          "name": "MultiClass"
                        }
                      ],
                      "launch_mode": "Train",
                      "parameters": "",
                      "iteration_count": 25,
                      "learn_sets": [
                        "learn"
                      ],
                      "name": "experiment"
                    }
                  }
                }
              }
            },
            "layout": "IPY_MODEL_4165245e992b4c189e42b5123ffc47a5"
          }
        }
      }
    }
  },
  "cells": [
    {
      "cell_type": "markdown",
      "source": [
        "## CatBoostClassifier"
      ],
      "metadata": {
        "id": "PdWdKjToUHrB"
      }
    },
    {
      "cell_type": "code",
      "source": [
        "!pip install catboost"
      ],
      "metadata": {
        "colab": {
          "base_uri": "https://localhost:8080/"
        },
        "id": "Pi5VtIdBaIE6",
        "outputId": "4e5e5bb4-17d3-4503-d078-3d97b42e1a3b"
      },
      "execution_count": 8,
      "outputs": [
        {
          "output_type": "stream",
          "name": "stdout",
          "text": [
            "Looking in indexes: https://pypi.org/simple, https://us-python.pkg.dev/colab-wheels/public/simple/\n",
            "Requirement already satisfied: catboost in /usr/local/lib/python3.8/dist-packages (1.1.1)\n",
            "Requirement already satisfied: six in /usr/local/lib/python3.8/dist-packages (from catboost) (1.15.0)\n",
            "Requirement already satisfied: matplotlib in /usr/local/lib/python3.8/dist-packages (from catboost) (3.2.2)\n",
            "Requirement already satisfied: scipy in /usr/local/lib/python3.8/dist-packages (from catboost) (1.7.3)\n",
            "Requirement already satisfied: plotly in /usr/local/lib/python3.8/dist-packages (from catboost) (5.5.0)\n",
            "Requirement already satisfied: graphviz in /usr/local/lib/python3.8/dist-packages (from catboost) (0.10.1)\n",
            "Requirement already satisfied: numpy>=1.16.0 in /usr/local/lib/python3.8/dist-packages (from catboost) (1.21.6)\n",
            "Requirement already satisfied: pandas>=0.24.0 in /usr/local/lib/python3.8/dist-packages (from catboost) (1.3.5)\n",
            "Requirement already satisfied: python-dateutil>=2.7.3 in /usr/local/lib/python3.8/dist-packages (from pandas>=0.24.0->catboost) (2.8.2)\n",
            "Requirement already satisfied: pytz>=2017.3 in /usr/local/lib/python3.8/dist-packages (from pandas>=0.24.0->catboost) (2022.6)\n",
            "Requirement already satisfied: pyparsing!=2.0.4,!=2.1.2,!=2.1.6,>=2.0.1 in /usr/local/lib/python3.8/dist-packages (from matplotlib->catboost) (3.0.9)\n",
            "Requirement already satisfied: kiwisolver>=1.0.1 in /usr/local/lib/python3.8/dist-packages (from matplotlib->catboost) (1.4.4)\n",
            "Requirement already satisfied: cycler>=0.10 in /usr/local/lib/python3.8/dist-packages (from matplotlib->catboost) (0.11.0)\n",
            "Requirement already satisfied: tenacity>=6.2.0 in /usr/local/lib/python3.8/dist-packages (from plotly->catboost) (8.1.0)\n"
          ]
        }
      ]
    },
    {
      "cell_type": "code",
      "source": [
        "from catboost import CatBoostClassifier\n",
        "#IMPORT AND ENCODE DATA\n",
        "import pandas as pd\n",
        "import numpy as np\n",
        "from sklearn.preprocessing import LabelEncoder\n",
        "from sklearn.preprocessing import OneHotEncoder\n",
        "import warnings\n",
        "warnings.filterwarnings('ignore')\n",
        "df_train = pd.read_csv('train.csv',index_col=0)\n",
        "df_test = pd.read_csv('test.csv', index_col=0)\n",
        "#df_train.reset_index(drop=True)\n",
        "#df_test.reset_index(drop=True)\n",
        "# concatenating df1 and df2 along rows\n",
        "\n",
        "#df_train = pd.concat([df_train, df_test], axis=0)"
      ],
      "metadata": {
        "id": "P-gBTmc6aKTk"
      },
      "execution_count": 23,
      "outputs": []
    },
    {
      "cell_type": "code",
      "source": [
        "df_train.head()"
      ],
      "metadata": {
        "colab": {
          "base_uri": "https://localhost:8080/",
          "height": 617
        },
        "id": "0c197l1IaOC-",
        "outputId": "03f8d5a4-3706-4216-fad2-1a73bddfa479"
      },
      "execution_count": 24,
      "outputs": [
        {
          "output_type": "execute_result",
          "data": {
            "text/plain": [
              "                                    date          org           tld  ccs  \\\n",
              "0         Mon, 6 Nov 2017 11:13:45 +0100        reply       ebay.in    0   \n",
              "1        Wed, 14 Feb 2018 11:00:16 -0000          edm  efinmail.com    0   \n",
              "2         Wed, 6 Jul 2016 19:53:37 +0000  usebackpack           com    0   \n",
              "3        Fri, 11 Oct 2019 11:25:40 +0200     granular            ai    0   \n",
              "4  Tue, 07 Nov 2017 11:07:18 +0000 (UTC)       github           com    1   \n",
              "\n",
              "   bcced              mail_type  images  urls  salutations  designation  \\\n",
              "0      0  multipart/alternative      35   120            0            0   \n",
              "1      0  multipart/alternative       1     7            0            0   \n",
              "2      0              text/html       4    17            0            0   \n",
              "3      0        multipart/mixed       0     0            0            0   \n",
              "4      0  multipart/alternative       2    11            0            0   \n",
              "\n",
              "   chars_in_subject  chars_in_body  label  \n",
              "0              49.0          80027      2  \n",
              "1             107.0           2961      1  \n",
              "2              35.0          25149      1  \n",
              "3              15.0         635296      1  \n",
              "4              49.0           2355      1  "
            ],
            "text/html": [
              "\n",
              "  <div id=\"df-03423edb-67ba-4026-a8e7-88562e403442\">\n",
              "    <div class=\"colab-df-container\">\n",
              "      <div>\n",
              "<style scoped>\n",
              "    .dataframe tbody tr th:only-of-type {\n",
              "        vertical-align: middle;\n",
              "    }\n",
              "\n",
              "    .dataframe tbody tr th {\n",
              "        vertical-align: top;\n",
              "    }\n",
              "\n",
              "    .dataframe thead th {\n",
              "        text-align: right;\n",
              "    }\n",
              "</style>\n",
              "<table border=\"1\" class=\"dataframe\">\n",
              "  <thead>\n",
              "    <tr style=\"text-align: right;\">\n",
              "      <th></th>\n",
              "      <th>date</th>\n",
              "      <th>org</th>\n",
              "      <th>tld</th>\n",
              "      <th>ccs</th>\n",
              "      <th>bcced</th>\n",
              "      <th>mail_type</th>\n",
              "      <th>images</th>\n",
              "      <th>urls</th>\n",
              "      <th>salutations</th>\n",
              "      <th>designation</th>\n",
              "      <th>chars_in_subject</th>\n",
              "      <th>chars_in_body</th>\n",
              "      <th>label</th>\n",
              "    </tr>\n",
              "  </thead>\n",
              "  <tbody>\n",
              "    <tr>\n",
              "      <th>0</th>\n",
              "      <td>Mon, 6 Nov 2017 11:13:45 +0100</td>\n",
              "      <td>reply</td>\n",
              "      <td>ebay.in</td>\n",
              "      <td>0</td>\n",
              "      <td>0</td>\n",
              "      <td>multipart/alternative</td>\n",
              "      <td>35</td>\n",
              "      <td>120</td>\n",
              "      <td>0</td>\n",
              "      <td>0</td>\n",
              "      <td>49.0</td>\n",
              "      <td>80027</td>\n",
              "      <td>2</td>\n",
              "    </tr>\n",
              "    <tr>\n",
              "      <th>1</th>\n",
              "      <td>Wed, 14 Feb 2018 11:00:16 -0000</td>\n",
              "      <td>edm</td>\n",
              "      <td>efinmail.com</td>\n",
              "      <td>0</td>\n",
              "      <td>0</td>\n",
              "      <td>multipart/alternative</td>\n",
              "      <td>1</td>\n",
              "      <td>7</td>\n",
              "      <td>0</td>\n",
              "      <td>0</td>\n",
              "      <td>107.0</td>\n",
              "      <td>2961</td>\n",
              "      <td>1</td>\n",
              "    </tr>\n",
              "    <tr>\n",
              "      <th>2</th>\n",
              "      <td>Wed, 6 Jul 2016 19:53:37 +0000</td>\n",
              "      <td>usebackpack</td>\n",
              "      <td>com</td>\n",
              "      <td>0</td>\n",
              "      <td>0</td>\n",
              "      <td>text/html</td>\n",
              "      <td>4</td>\n",
              "      <td>17</td>\n",
              "      <td>0</td>\n",
              "      <td>0</td>\n",
              "      <td>35.0</td>\n",
              "      <td>25149</td>\n",
              "      <td>1</td>\n",
              "    </tr>\n",
              "    <tr>\n",
              "      <th>3</th>\n",
              "      <td>Fri, 11 Oct 2019 11:25:40 +0200</td>\n",
              "      <td>granular</td>\n",
              "      <td>ai</td>\n",
              "      <td>0</td>\n",
              "      <td>0</td>\n",
              "      <td>multipart/mixed</td>\n",
              "      <td>0</td>\n",
              "      <td>0</td>\n",
              "      <td>0</td>\n",
              "      <td>0</td>\n",
              "      <td>15.0</td>\n",
              "      <td>635296</td>\n",
              "      <td>1</td>\n",
              "    </tr>\n",
              "    <tr>\n",
              "      <th>4</th>\n",
              "      <td>Tue, 07 Nov 2017 11:07:18 +0000 (UTC)</td>\n",
              "      <td>github</td>\n",
              "      <td>com</td>\n",
              "      <td>1</td>\n",
              "      <td>0</td>\n",
              "      <td>multipart/alternative</td>\n",
              "      <td>2</td>\n",
              "      <td>11</td>\n",
              "      <td>0</td>\n",
              "      <td>0</td>\n",
              "      <td>49.0</td>\n",
              "      <td>2355</td>\n",
              "      <td>1</td>\n",
              "    </tr>\n",
              "  </tbody>\n",
              "</table>\n",
              "</div>\n",
              "      <button class=\"colab-df-convert\" onclick=\"convertToInteractive('df-03423edb-67ba-4026-a8e7-88562e403442')\"\n",
              "              title=\"Convert this dataframe to an interactive table.\"\n",
              "              style=\"display:none;\">\n",
              "        \n",
              "  <svg xmlns=\"http://www.w3.org/2000/svg\" height=\"24px\"viewBox=\"0 0 24 24\"\n",
              "       width=\"24px\">\n",
              "    <path d=\"M0 0h24v24H0V0z\" fill=\"none\"/>\n",
              "    <path d=\"M18.56 5.44l.94 2.06.94-2.06 2.06-.94-2.06-.94-.94-2.06-.94 2.06-2.06.94zm-11 1L8.5 8.5l.94-2.06 2.06-.94-2.06-.94L8.5 2.5l-.94 2.06-2.06.94zm10 10l.94 2.06.94-2.06 2.06-.94-2.06-.94-.94-2.06-.94 2.06-2.06.94z\"/><path d=\"M17.41 7.96l-1.37-1.37c-.4-.4-.92-.59-1.43-.59-.52 0-1.04.2-1.43.59L10.3 9.45l-7.72 7.72c-.78.78-.78 2.05 0 2.83L4 21.41c.39.39.9.59 1.41.59.51 0 1.02-.2 1.41-.59l7.78-7.78 2.81-2.81c.8-.78.8-2.07 0-2.86zM5.41 20L4 18.59l7.72-7.72 1.47 1.35L5.41 20z\"/>\n",
              "  </svg>\n",
              "      </button>\n",
              "      \n",
              "  <style>\n",
              "    .colab-df-container {\n",
              "      display:flex;\n",
              "      flex-wrap:wrap;\n",
              "      gap: 12px;\n",
              "    }\n",
              "\n",
              "    .colab-df-convert {\n",
              "      background-color: #E8F0FE;\n",
              "      border: none;\n",
              "      border-radius: 50%;\n",
              "      cursor: pointer;\n",
              "      display: none;\n",
              "      fill: #1967D2;\n",
              "      height: 32px;\n",
              "      padding: 0 0 0 0;\n",
              "      width: 32px;\n",
              "    }\n",
              "\n",
              "    .colab-df-convert:hover {\n",
              "      background-color: #E2EBFA;\n",
              "      box-shadow: 0px 1px 2px rgba(60, 64, 67, 0.3), 0px 1px 3px 1px rgba(60, 64, 67, 0.15);\n",
              "      fill: #174EA6;\n",
              "    }\n",
              "\n",
              "    [theme=dark] .colab-df-convert {\n",
              "      background-color: #3B4455;\n",
              "      fill: #D2E3FC;\n",
              "    }\n",
              "\n",
              "    [theme=dark] .colab-df-convert:hover {\n",
              "      background-color: #434B5C;\n",
              "      box-shadow: 0px 1px 3px 1px rgba(0, 0, 0, 0.15);\n",
              "      filter: drop-shadow(0px 1px 2px rgba(0, 0, 0, 0.3));\n",
              "      fill: #FFFFFF;\n",
              "    }\n",
              "  </style>\n",
              "\n",
              "      <script>\n",
              "        const buttonEl =\n",
              "          document.querySelector('#df-03423edb-67ba-4026-a8e7-88562e403442 button.colab-df-convert');\n",
              "        buttonEl.style.display =\n",
              "          google.colab.kernel.accessAllowed ? 'block' : 'none';\n",
              "\n",
              "        async function convertToInteractive(key) {\n",
              "          const element = document.querySelector('#df-03423edb-67ba-4026-a8e7-88562e403442');\n",
              "          const dataTable =\n",
              "            await google.colab.kernel.invokeFunction('convertToInteractive',\n",
              "                                                     [key], {});\n",
              "          if (!dataTable) return;\n",
              "\n",
              "          const docLinkHtml = 'Like what you see? Visit the ' +\n",
              "            '<a target=\"_blank\" href=https://colab.research.google.com/notebooks/data_table.ipynb>data table notebook</a>'\n",
              "            + ' to learn more about interactive tables.';\n",
              "          element.innerHTML = '';\n",
              "          dataTable['output_type'] = 'display_data';\n",
              "          await google.colab.output.renderOutput(dataTable, element);\n",
              "          const docLink = document.createElement('div');\n",
              "          docLink.innerHTML = docLinkHtml;\n",
              "          element.appendChild(docLink);\n",
              "        }\n",
              "      </script>\n",
              "    </div>\n",
              "  </div>\n",
              "  "
            ]
          },
          "metadata": {},
          "execution_count": 24
        }
      ]
    },
    {
      "cell_type": "code",
      "source": [
        "df_train.label.value_counts()"
      ],
      "metadata": {
        "colab": {
          "base_uri": "https://localhost:8080/"
        },
        "id": "gbdZx23EaQSM",
        "outputId": "3d607bc5-f023-4a67-c519-b6e11a3833ab"
      },
      "execution_count": 25,
      "outputs": [
        {
          "output_type": "execute_result",
          "data": {
            "text/plain": [
              "1    37195\n",
              "0    17995\n",
              "3    10727\n",
              "2     8567\n",
              "7     5042\n",
              "4      357\n",
              "6      152\n",
              "5      141\n",
              "Name: label, dtype: int64"
            ]
          },
          "metadata": {},
          "execution_count": 25
        }
      ]
    },
    {
      "cell_type": "code",
      "source": [
        "df_train.org.mode()[0]"
      ],
      "metadata": {
        "colab": {
          "base_uri": "https://localhost:8080/",
          "height": 36
        },
        "id": "-v04tQaOaSFS",
        "outputId": "0d87b646-b59e-48f3-b71e-aa6ca4704c70"
      },
      "execution_count": 26,
      "outputs": [
        {
          "output_type": "execute_result",
          "data": {
            "text/plain": [
              "'iiitd'"
            ],
            "application/vnd.google.colaboratory.intrinsic+json": {
              "type": "string"
            }
          },
          "metadata": {},
          "execution_count": 26
        }
      ]
    },
    {
      "cell_type": "code",
      "source": [
        "\n",
        "df_train['org'].fillna(df_train['org'].mode()[0], inplace = True)\n",
        "df_train['tld'].fillna(df_train['tld'].mode()[0], inplace = True)\n",
        "df_train['mail_type'].fillna(df_train['mail_type'].mode()[0], inplace = True)\n",
        "df_train['urls'].fillna(df_train['urls'].mean(), inplace=True)\n",
        "df_train['images'].fillna(df_train['images'].mean(), inplace=True)\n",
        "df_train['chars_in_subject'].fillna(df_train['chars_in_subject'].mean(), inplace=True)\n",
        "df_train['chars_in_body'].fillna(df_train['chars_in_body'].mean(), inplace=True)\n",
        "\n",
        "df_test['org'].fillna(df_test['org'].mode()[0], inplace = True)\n",
        "df_test['tld'].fillna(df_test['tld'].mode()[0], inplace = True)\n",
        "df_test['mail_type'].fillna(df_test['mail_type'].mode()[0], inplace = True)\n",
        "df_test['urls'].fillna(df_test['urls'].mean(), inplace=True)\n",
        "df_test['images'].fillna(df_test['images'].mean(), inplace=True)\n",
        "df_test['chars_in_subject'].fillna(df_test['chars_in_subject'].mean(), inplace=True)\n",
        "df_test['chars_in_body'].fillna(df_test['chars_in_body'].mean(), inplace=True)\n",
        "\n",
        "\n",
        "df_train['mail_type'] = df_train['mail_type'].str.lower()\n",
        "df_test['mail_type'] = df_test['mail_type'].str.lower()"
      ],
      "metadata": {
        "id": "tTWZYncoaV6t"
      },
      "execution_count": 27,
      "outputs": []
    },
    {
      "cell_type": "code",
      "source": [
        "df_train"
      ],
      "metadata": {
        "colab": {
          "base_uri": "https://localhost:8080/",
          "height": 1000
        },
        "id": "Fg0mnDsEaY_L",
        "outputId": "9c6a1bee-6bfa-4432-a4d0-bee6eebaf757"
      },
      "execution_count": 14,
      "outputs": [
        {
          "output_type": "execute_result",
          "data": {
            "text/plain": [
              "                                        date          org           tld  ccs  \\\n",
              "0             Mon, 6 Nov 2017 11:13:45 +0100        reply       ebay.in    0   \n",
              "1            Wed, 14 Feb 2018 11:00:16 -0000          edm  efinmail.com    0   \n",
              "2             Wed, 6 Jul 2016 19:53:37 +0000  usebackpack           com    0   \n",
              "3            Fri, 11 Oct 2019 11:25:40 +0200     granular            ai    0   \n",
              "4      Tue, 07 Nov 2017 11:07:18 +0000 (UTC)       github           com    1   \n",
              "...                                      ...          ...           ...  ...   \n",
              "80171        Tue, 30 Jun 2020 05:55:20 -0700       github           com    1   \n",
              "80172  Fri,  1 May 2015 11:48:55 +0530 (IST)        iiitd           com    0   \n",
              "80173        Tue, 26 May 2020 08:18:43 -0700       google           com    0   \n",
              "80174  Fri, 14 Dec 2018 09:01:13 +0000 (UTC)       medium           com    0   \n",
              "80175        Sun, 21 Oct 2012 23:43:49 -0400        iiitd           com    0   \n",
              "\n",
              "       bcced              mail_type  images  urls  salutations  designation  \\\n",
              "0          0  multipart/alternative      35   120            0            0   \n",
              "1          0  multipart/alternative       1     7            0            0   \n",
              "2          0              text/html       4    17            0            0   \n",
              "3          0        multipart/mixed       0     0            0            0   \n",
              "4          0  multipart/alternative       2    11            0            0   \n",
              "...      ...                    ...     ...   ...          ...          ...   \n",
              "80171      0  multipart/alternative       0     8            0            0   \n",
              "80172      0              text/html       0     2            1            0   \n",
              "80173      0  multipart/alternative      27    85            0            0   \n",
              "80174      0  multipart/alternative      32   239            1            1   \n",
              "80175      0  multipart/alternative       0     5            0            0   \n",
              "\n",
              "       chars_in_subject  chars_in_body  label  \n",
              "0                  49.0          80027      2  \n",
              "1                 107.0           2961      1  \n",
              "2                  35.0          25149      1  \n",
              "3                  15.0         635296      1  \n",
              "4                  49.0           2355      1  \n",
              "...                 ...            ...    ...  \n",
              "80171              91.0           1307      3  \n",
              "80172              73.0          13464      0  \n",
              "80173              46.0          28485      0  \n",
              "80174             169.0         105276      0  \n",
              "80175             120.0           2467      0  \n",
              "\n",
              "[80176 rows x 13 columns]"
            ],
            "text/html": [
              "\n",
              "  <div id=\"df-e8231c7d-776d-4204-a3e5-dda10c0216b1\">\n",
              "    <div class=\"colab-df-container\">\n",
              "      <div>\n",
              "<style scoped>\n",
              "    .dataframe tbody tr th:only-of-type {\n",
              "        vertical-align: middle;\n",
              "    }\n",
              "\n",
              "    .dataframe tbody tr th {\n",
              "        vertical-align: top;\n",
              "    }\n",
              "\n",
              "    .dataframe thead th {\n",
              "        text-align: right;\n",
              "    }\n",
              "</style>\n",
              "<table border=\"1\" class=\"dataframe\">\n",
              "  <thead>\n",
              "    <tr style=\"text-align: right;\">\n",
              "      <th></th>\n",
              "      <th>date</th>\n",
              "      <th>org</th>\n",
              "      <th>tld</th>\n",
              "      <th>ccs</th>\n",
              "      <th>bcced</th>\n",
              "      <th>mail_type</th>\n",
              "      <th>images</th>\n",
              "      <th>urls</th>\n",
              "      <th>salutations</th>\n",
              "      <th>designation</th>\n",
              "      <th>chars_in_subject</th>\n",
              "      <th>chars_in_body</th>\n",
              "      <th>label</th>\n",
              "    </tr>\n",
              "  </thead>\n",
              "  <tbody>\n",
              "    <tr>\n",
              "      <th>0</th>\n",
              "      <td>Mon, 6 Nov 2017 11:13:45 +0100</td>\n",
              "      <td>reply</td>\n",
              "      <td>ebay.in</td>\n",
              "      <td>0</td>\n",
              "      <td>0</td>\n",
              "      <td>multipart/alternative</td>\n",
              "      <td>35</td>\n",
              "      <td>120</td>\n",
              "      <td>0</td>\n",
              "      <td>0</td>\n",
              "      <td>49.0</td>\n",
              "      <td>80027</td>\n",
              "      <td>2</td>\n",
              "    </tr>\n",
              "    <tr>\n",
              "      <th>1</th>\n",
              "      <td>Wed, 14 Feb 2018 11:00:16 -0000</td>\n",
              "      <td>edm</td>\n",
              "      <td>efinmail.com</td>\n",
              "      <td>0</td>\n",
              "      <td>0</td>\n",
              "      <td>multipart/alternative</td>\n",
              "      <td>1</td>\n",
              "      <td>7</td>\n",
              "      <td>0</td>\n",
              "      <td>0</td>\n",
              "      <td>107.0</td>\n",
              "      <td>2961</td>\n",
              "      <td>1</td>\n",
              "    </tr>\n",
              "    <tr>\n",
              "      <th>2</th>\n",
              "      <td>Wed, 6 Jul 2016 19:53:37 +0000</td>\n",
              "      <td>usebackpack</td>\n",
              "      <td>com</td>\n",
              "      <td>0</td>\n",
              "      <td>0</td>\n",
              "      <td>text/html</td>\n",
              "      <td>4</td>\n",
              "      <td>17</td>\n",
              "      <td>0</td>\n",
              "      <td>0</td>\n",
              "      <td>35.0</td>\n",
              "      <td>25149</td>\n",
              "      <td>1</td>\n",
              "    </tr>\n",
              "    <tr>\n",
              "      <th>3</th>\n",
              "      <td>Fri, 11 Oct 2019 11:25:40 +0200</td>\n",
              "      <td>granular</td>\n",
              "      <td>ai</td>\n",
              "      <td>0</td>\n",
              "      <td>0</td>\n",
              "      <td>multipart/mixed</td>\n",
              "      <td>0</td>\n",
              "      <td>0</td>\n",
              "      <td>0</td>\n",
              "      <td>0</td>\n",
              "      <td>15.0</td>\n",
              "      <td>635296</td>\n",
              "      <td>1</td>\n",
              "    </tr>\n",
              "    <tr>\n",
              "      <th>4</th>\n",
              "      <td>Tue, 07 Nov 2017 11:07:18 +0000 (UTC)</td>\n",
              "      <td>github</td>\n",
              "      <td>com</td>\n",
              "      <td>1</td>\n",
              "      <td>0</td>\n",
              "      <td>multipart/alternative</td>\n",
              "      <td>2</td>\n",
              "      <td>11</td>\n",
              "      <td>0</td>\n",
              "      <td>0</td>\n",
              "      <td>49.0</td>\n",
              "      <td>2355</td>\n",
              "      <td>1</td>\n",
              "    </tr>\n",
              "    <tr>\n",
              "      <th>...</th>\n",
              "      <td>...</td>\n",
              "      <td>...</td>\n",
              "      <td>...</td>\n",
              "      <td>...</td>\n",
              "      <td>...</td>\n",
              "      <td>...</td>\n",
              "      <td>...</td>\n",
              "      <td>...</td>\n",
              "      <td>...</td>\n",
              "      <td>...</td>\n",
              "      <td>...</td>\n",
              "      <td>...</td>\n",
              "      <td>...</td>\n",
              "    </tr>\n",
              "    <tr>\n",
              "      <th>80171</th>\n",
              "      <td>Tue, 30 Jun 2020 05:55:20 -0700</td>\n",
              "      <td>github</td>\n",
              "      <td>com</td>\n",
              "      <td>1</td>\n",
              "      <td>0</td>\n",
              "      <td>multipart/alternative</td>\n",
              "      <td>0</td>\n",
              "      <td>8</td>\n",
              "      <td>0</td>\n",
              "      <td>0</td>\n",
              "      <td>91.0</td>\n",
              "      <td>1307</td>\n",
              "      <td>3</td>\n",
              "    </tr>\n",
              "    <tr>\n",
              "      <th>80172</th>\n",
              "      <td>Fri,  1 May 2015 11:48:55 +0530 (IST)</td>\n",
              "      <td>iiitd</td>\n",
              "      <td>com</td>\n",
              "      <td>0</td>\n",
              "      <td>0</td>\n",
              "      <td>text/html</td>\n",
              "      <td>0</td>\n",
              "      <td>2</td>\n",
              "      <td>1</td>\n",
              "      <td>0</td>\n",
              "      <td>73.0</td>\n",
              "      <td>13464</td>\n",
              "      <td>0</td>\n",
              "    </tr>\n",
              "    <tr>\n",
              "      <th>80173</th>\n",
              "      <td>Tue, 26 May 2020 08:18:43 -0700</td>\n",
              "      <td>google</td>\n",
              "      <td>com</td>\n",
              "      <td>0</td>\n",
              "      <td>0</td>\n",
              "      <td>multipart/alternative</td>\n",
              "      <td>27</td>\n",
              "      <td>85</td>\n",
              "      <td>0</td>\n",
              "      <td>0</td>\n",
              "      <td>46.0</td>\n",
              "      <td>28485</td>\n",
              "      <td>0</td>\n",
              "    </tr>\n",
              "    <tr>\n",
              "      <th>80174</th>\n",
              "      <td>Fri, 14 Dec 2018 09:01:13 +0000 (UTC)</td>\n",
              "      <td>medium</td>\n",
              "      <td>com</td>\n",
              "      <td>0</td>\n",
              "      <td>0</td>\n",
              "      <td>multipart/alternative</td>\n",
              "      <td>32</td>\n",
              "      <td>239</td>\n",
              "      <td>1</td>\n",
              "      <td>1</td>\n",
              "      <td>169.0</td>\n",
              "      <td>105276</td>\n",
              "      <td>0</td>\n",
              "    </tr>\n",
              "    <tr>\n",
              "      <th>80175</th>\n",
              "      <td>Sun, 21 Oct 2012 23:43:49 -0400</td>\n",
              "      <td>iiitd</td>\n",
              "      <td>com</td>\n",
              "      <td>0</td>\n",
              "      <td>0</td>\n",
              "      <td>multipart/alternative</td>\n",
              "      <td>0</td>\n",
              "      <td>5</td>\n",
              "      <td>0</td>\n",
              "      <td>0</td>\n",
              "      <td>120.0</td>\n",
              "      <td>2467</td>\n",
              "      <td>0</td>\n",
              "    </tr>\n",
              "  </tbody>\n",
              "</table>\n",
              "<p>80176 rows × 13 columns</p>\n",
              "</div>\n",
              "      <button class=\"colab-df-convert\" onclick=\"convertToInteractive('df-e8231c7d-776d-4204-a3e5-dda10c0216b1')\"\n",
              "              title=\"Convert this dataframe to an interactive table.\"\n",
              "              style=\"display:none;\">\n",
              "        \n",
              "  <svg xmlns=\"http://www.w3.org/2000/svg\" height=\"24px\"viewBox=\"0 0 24 24\"\n",
              "       width=\"24px\">\n",
              "    <path d=\"M0 0h24v24H0V0z\" fill=\"none\"/>\n",
              "    <path d=\"M18.56 5.44l.94 2.06.94-2.06 2.06-.94-2.06-.94-.94-2.06-.94 2.06-2.06.94zm-11 1L8.5 8.5l.94-2.06 2.06-.94-2.06-.94L8.5 2.5l-.94 2.06-2.06.94zm10 10l.94 2.06.94-2.06 2.06-.94-2.06-.94-.94-2.06-.94 2.06-2.06.94z\"/><path d=\"M17.41 7.96l-1.37-1.37c-.4-.4-.92-.59-1.43-.59-.52 0-1.04.2-1.43.59L10.3 9.45l-7.72 7.72c-.78.78-.78 2.05 0 2.83L4 21.41c.39.39.9.59 1.41.59.51 0 1.02-.2 1.41-.59l7.78-7.78 2.81-2.81c.8-.78.8-2.07 0-2.86zM5.41 20L4 18.59l7.72-7.72 1.47 1.35L5.41 20z\"/>\n",
              "  </svg>\n",
              "      </button>\n",
              "      \n",
              "  <style>\n",
              "    .colab-df-container {\n",
              "      display:flex;\n",
              "      flex-wrap:wrap;\n",
              "      gap: 12px;\n",
              "    }\n",
              "\n",
              "    .colab-df-convert {\n",
              "      background-color: #E8F0FE;\n",
              "      border: none;\n",
              "      border-radius: 50%;\n",
              "      cursor: pointer;\n",
              "      display: none;\n",
              "      fill: #1967D2;\n",
              "      height: 32px;\n",
              "      padding: 0 0 0 0;\n",
              "      width: 32px;\n",
              "    }\n",
              "\n",
              "    .colab-df-convert:hover {\n",
              "      background-color: #E2EBFA;\n",
              "      box-shadow: 0px 1px 2px rgba(60, 64, 67, 0.3), 0px 1px 3px 1px rgba(60, 64, 67, 0.15);\n",
              "      fill: #174EA6;\n",
              "    }\n",
              "\n",
              "    [theme=dark] .colab-df-convert {\n",
              "      background-color: #3B4455;\n",
              "      fill: #D2E3FC;\n",
              "    }\n",
              "\n",
              "    [theme=dark] .colab-df-convert:hover {\n",
              "      background-color: #434B5C;\n",
              "      box-shadow: 0px 1px 3px 1px rgba(0, 0, 0, 0.15);\n",
              "      filter: drop-shadow(0px 1px 2px rgba(0, 0, 0, 0.3));\n",
              "      fill: #FFFFFF;\n",
              "    }\n",
              "  </style>\n",
              "\n",
              "      <script>\n",
              "        const buttonEl =\n",
              "          document.querySelector('#df-e8231c7d-776d-4204-a3e5-dda10c0216b1 button.colab-df-convert');\n",
              "        buttonEl.style.display =\n",
              "          google.colab.kernel.accessAllowed ? 'block' : 'none';\n",
              "\n",
              "        async function convertToInteractive(key) {\n",
              "          const element = document.querySelector('#df-e8231c7d-776d-4204-a3e5-dda10c0216b1');\n",
              "          const dataTable =\n",
              "            await google.colab.kernel.invokeFunction('convertToInteractive',\n",
              "                                                     [key], {});\n",
              "          if (!dataTable) return;\n",
              "\n",
              "          const docLinkHtml = 'Like what you see? Visit the ' +\n",
              "            '<a target=\"_blank\" href=https://colab.research.google.com/notebooks/data_table.ipynb>data table notebook</a>'\n",
              "            + ' to learn more about interactive tables.';\n",
              "          element.innerHTML = '';\n",
              "          dataTable['output_type'] = 'display_data';\n",
              "          await google.colab.output.renderOutput(dataTable, element);\n",
              "          const docLink = document.createElement('div');\n",
              "          docLink.innerHTML = docLinkHtml;\n",
              "          element.appendChild(docLink);\n",
              "        }\n",
              "      </script>\n",
              "    </div>\n",
              "  </div>\n",
              "  "
            ]
          },
          "metadata": {},
          "execution_count": 14
        }
      ]
    },
    {
      "cell_type": "code",
      "source": [
        "df_train"
      ],
      "metadata": {
        "colab": {
          "base_uri": "https://localhost:8080/",
          "height": 1000
        },
        "id": "cjGVd2bIabiZ",
        "outputId": "71431973-bfc7-4b08-df21-9af9d75de331"
      },
      "execution_count": 28,
      "outputs": [
        {
          "output_type": "execute_result",
          "data": {
            "text/plain": [
              "                                        date          org           tld  ccs  \\\n",
              "0             Mon, 6 Nov 2017 11:13:45 +0100        reply       ebay.in    0   \n",
              "1            Wed, 14 Feb 2018 11:00:16 -0000          edm  efinmail.com    0   \n",
              "2             Wed, 6 Jul 2016 19:53:37 +0000  usebackpack           com    0   \n",
              "3            Fri, 11 Oct 2019 11:25:40 +0200     granular            ai    0   \n",
              "4      Tue, 07 Nov 2017 11:07:18 +0000 (UTC)       github           com    1   \n",
              "...                                      ...          ...           ...  ...   \n",
              "80171        Tue, 30 Jun 2020 05:55:20 -0700       github           com    1   \n",
              "80172  Fri,  1 May 2015 11:48:55 +0530 (IST)        iiitd           com    0   \n",
              "80173        Tue, 26 May 2020 08:18:43 -0700       google           com    0   \n",
              "80174  Fri, 14 Dec 2018 09:01:13 +0000 (UTC)       medium           com    0   \n",
              "80175        Sun, 21 Oct 2012 23:43:49 -0400        iiitd           com    0   \n",
              "\n",
              "       bcced              mail_type  images  urls  salutations  designation  \\\n",
              "0          0  multipart/alternative      35   120            0            0   \n",
              "1          0  multipart/alternative       1     7            0            0   \n",
              "2          0              text/html       4    17            0            0   \n",
              "3          0        multipart/mixed       0     0            0            0   \n",
              "4          0  multipart/alternative       2    11            0            0   \n",
              "...      ...                    ...     ...   ...          ...          ...   \n",
              "80171      0  multipart/alternative       0     8            0            0   \n",
              "80172      0              text/html       0     2            1            0   \n",
              "80173      0  multipart/alternative      27    85            0            0   \n",
              "80174      0  multipart/alternative      32   239            1            1   \n",
              "80175      0  multipart/alternative       0     5            0            0   \n",
              "\n",
              "       chars_in_subject  chars_in_body  label  \n",
              "0                  49.0          80027      2  \n",
              "1                 107.0           2961      1  \n",
              "2                  35.0          25149      1  \n",
              "3                  15.0         635296      1  \n",
              "4                  49.0           2355      1  \n",
              "...                 ...            ...    ...  \n",
              "80171              91.0           1307      3  \n",
              "80172              73.0          13464      0  \n",
              "80173              46.0          28485      0  \n",
              "80174             169.0         105276      0  \n",
              "80175             120.0           2467      0  \n",
              "\n",
              "[80176 rows x 13 columns]"
            ],
            "text/html": [
              "\n",
              "  <div id=\"df-8e46905a-145f-40ee-9484-7df90aae1520\">\n",
              "    <div class=\"colab-df-container\">\n",
              "      <div>\n",
              "<style scoped>\n",
              "    .dataframe tbody tr th:only-of-type {\n",
              "        vertical-align: middle;\n",
              "    }\n",
              "\n",
              "    .dataframe tbody tr th {\n",
              "        vertical-align: top;\n",
              "    }\n",
              "\n",
              "    .dataframe thead th {\n",
              "        text-align: right;\n",
              "    }\n",
              "</style>\n",
              "<table border=\"1\" class=\"dataframe\">\n",
              "  <thead>\n",
              "    <tr style=\"text-align: right;\">\n",
              "      <th></th>\n",
              "      <th>date</th>\n",
              "      <th>org</th>\n",
              "      <th>tld</th>\n",
              "      <th>ccs</th>\n",
              "      <th>bcced</th>\n",
              "      <th>mail_type</th>\n",
              "      <th>images</th>\n",
              "      <th>urls</th>\n",
              "      <th>salutations</th>\n",
              "      <th>designation</th>\n",
              "      <th>chars_in_subject</th>\n",
              "      <th>chars_in_body</th>\n",
              "      <th>label</th>\n",
              "    </tr>\n",
              "  </thead>\n",
              "  <tbody>\n",
              "    <tr>\n",
              "      <th>0</th>\n",
              "      <td>Mon, 6 Nov 2017 11:13:45 +0100</td>\n",
              "      <td>reply</td>\n",
              "      <td>ebay.in</td>\n",
              "      <td>0</td>\n",
              "      <td>0</td>\n",
              "      <td>multipart/alternative</td>\n",
              "      <td>35</td>\n",
              "      <td>120</td>\n",
              "      <td>0</td>\n",
              "      <td>0</td>\n",
              "      <td>49.0</td>\n",
              "      <td>80027</td>\n",
              "      <td>2</td>\n",
              "    </tr>\n",
              "    <tr>\n",
              "      <th>1</th>\n",
              "      <td>Wed, 14 Feb 2018 11:00:16 -0000</td>\n",
              "      <td>edm</td>\n",
              "      <td>efinmail.com</td>\n",
              "      <td>0</td>\n",
              "      <td>0</td>\n",
              "      <td>multipart/alternative</td>\n",
              "      <td>1</td>\n",
              "      <td>7</td>\n",
              "      <td>0</td>\n",
              "      <td>0</td>\n",
              "      <td>107.0</td>\n",
              "      <td>2961</td>\n",
              "      <td>1</td>\n",
              "    </tr>\n",
              "    <tr>\n",
              "      <th>2</th>\n",
              "      <td>Wed, 6 Jul 2016 19:53:37 +0000</td>\n",
              "      <td>usebackpack</td>\n",
              "      <td>com</td>\n",
              "      <td>0</td>\n",
              "      <td>0</td>\n",
              "      <td>text/html</td>\n",
              "      <td>4</td>\n",
              "      <td>17</td>\n",
              "      <td>0</td>\n",
              "      <td>0</td>\n",
              "      <td>35.0</td>\n",
              "      <td>25149</td>\n",
              "      <td>1</td>\n",
              "    </tr>\n",
              "    <tr>\n",
              "      <th>3</th>\n",
              "      <td>Fri, 11 Oct 2019 11:25:40 +0200</td>\n",
              "      <td>granular</td>\n",
              "      <td>ai</td>\n",
              "      <td>0</td>\n",
              "      <td>0</td>\n",
              "      <td>multipart/mixed</td>\n",
              "      <td>0</td>\n",
              "      <td>0</td>\n",
              "      <td>0</td>\n",
              "      <td>0</td>\n",
              "      <td>15.0</td>\n",
              "      <td>635296</td>\n",
              "      <td>1</td>\n",
              "    </tr>\n",
              "    <tr>\n",
              "      <th>4</th>\n",
              "      <td>Tue, 07 Nov 2017 11:07:18 +0000 (UTC)</td>\n",
              "      <td>github</td>\n",
              "      <td>com</td>\n",
              "      <td>1</td>\n",
              "      <td>0</td>\n",
              "      <td>multipart/alternative</td>\n",
              "      <td>2</td>\n",
              "      <td>11</td>\n",
              "      <td>0</td>\n",
              "      <td>0</td>\n",
              "      <td>49.0</td>\n",
              "      <td>2355</td>\n",
              "      <td>1</td>\n",
              "    </tr>\n",
              "    <tr>\n",
              "      <th>...</th>\n",
              "      <td>...</td>\n",
              "      <td>...</td>\n",
              "      <td>...</td>\n",
              "      <td>...</td>\n",
              "      <td>...</td>\n",
              "      <td>...</td>\n",
              "      <td>...</td>\n",
              "      <td>...</td>\n",
              "      <td>...</td>\n",
              "      <td>...</td>\n",
              "      <td>...</td>\n",
              "      <td>...</td>\n",
              "      <td>...</td>\n",
              "    </tr>\n",
              "    <tr>\n",
              "      <th>80171</th>\n",
              "      <td>Tue, 30 Jun 2020 05:55:20 -0700</td>\n",
              "      <td>github</td>\n",
              "      <td>com</td>\n",
              "      <td>1</td>\n",
              "      <td>0</td>\n",
              "      <td>multipart/alternative</td>\n",
              "      <td>0</td>\n",
              "      <td>8</td>\n",
              "      <td>0</td>\n",
              "      <td>0</td>\n",
              "      <td>91.0</td>\n",
              "      <td>1307</td>\n",
              "      <td>3</td>\n",
              "    </tr>\n",
              "    <tr>\n",
              "      <th>80172</th>\n",
              "      <td>Fri,  1 May 2015 11:48:55 +0530 (IST)</td>\n",
              "      <td>iiitd</td>\n",
              "      <td>com</td>\n",
              "      <td>0</td>\n",
              "      <td>0</td>\n",
              "      <td>text/html</td>\n",
              "      <td>0</td>\n",
              "      <td>2</td>\n",
              "      <td>1</td>\n",
              "      <td>0</td>\n",
              "      <td>73.0</td>\n",
              "      <td>13464</td>\n",
              "      <td>0</td>\n",
              "    </tr>\n",
              "    <tr>\n",
              "      <th>80173</th>\n",
              "      <td>Tue, 26 May 2020 08:18:43 -0700</td>\n",
              "      <td>google</td>\n",
              "      <td>com</td>\n",
              "      <td>0</td>\n",
              "      <td>0</td>\n",
              "      <td>multipart/alternative</td>\n",
              "      <td>27</td>\n",
              "      <td>85</td>\n",
              "      <td>0</td>\n",
              "      <td>0</td>\n",
              "      <td>46.0</td>\n",
              "      <td>28485</td>\n",
              "      <td>0</td>\n",
              "    </tr>\n",
              "    <tr>\n",
              "      <th>80174</th>\n",
              "      <td>Fri, 14 Dec 2018 09:01:13 +0000 (UTC)</td>\n",
              "      <td>medium</td>\n",
              "      <td>com</td>\n",
              "      <td>0</td>\n",
              "      <td>0</td>\n",
              "      <td>multipart/alternative</td>\n",
              "      <td>32</td>\n",
              "      <td>239</td>\n",
              "      <td>1</td>\n",
              "      <td>1</td>\n",
              "      <td>169.0</td>\n",
              "      <td>105276</td>\n",
              "      <td>0</td>\n",
              "    </tr>\n",
              "    <tr>\n",
              "      <th>80175</th>\n",
              "      <td>Sun, 21 Oct 2012 23:43:49 -0400</td>\n",
              "      <td>iiitd</td>\n",
              "      <td>com</td>\n",
              "      <td>0</td>\n",
              "      <td>0</td>\n",
              "      <td>multipart/alternative</td>\n",
              "      <td>0</td>\n",
              "      <td>5</td>\n",
              "      <td>0</td>\n",
              "      <td>0</td>\n",
              "      <td>120.0</td>\n",
              "      <td>2467</td>\n",
              "      <td>0</td>\n",
              "    </tr>\n",
              "  </tbody>\n",
              "</table>\n",
              "<p>80176 rows × 13 columns</p>\n",
              "</div>\n",
              "      <button class=\"colab-df-convert\" onclick=\"convertToInteractive('df-8e46905a-145f-40ee-9484-7df90aae1520')\"\n",
              "              title=\"Convert this dataframe to an interactive table.\"\n",
              "              style=\"display:none;\">\n",
              "        \n",
              "  <svg xmlns=\"http://www.w3.org/2000/svg\" height=\"24px\"viewBox=\"0 0 24 24\"\n",
              "       width=\"24px\">\n",
              "    <path d=\"M0 0h24v24H0V0z\" fill=\"none\"/>\n",
              "    <path d=\"M18.56 5.44l.94 2.06.94-2.06 2.06-.94-2.06-.94-.94-2.06-.94 2.06-2.06.94zm-11 1L8.5 8.5l.94-2.06 2.06-.94-2.06-.94L8.5 2.5l-.94 2.06-2.06.94zm10 10l.94 2.06.94-2.06 2.06-.94-2.06-.94-.94-2.06-.94 2.06-2.06.94z\"/><path d=\"M17.41 7.96l-1.37-1.37c-.4-.4-.92-.59-1.43-.59-.52 0-1.04.2-1.43.59L10.3 9.45l-7.72 7.72c-.78.78-.78 2.05 0 2.83L4 21.41c.39.39.9.59 1.41.59.51 0 1.02-.2 1.41-.59l7.78-7.78 2.81-2.81c.8-.78.8-2.07 0-2.86zM5.41 20L4 18.59l7.72-7.72 1.47 1.35L5.41 20z\"/>\n",
              "  </svg>\n",
              "      </button>\n",
              "      \n",
              "  <style>\n",
              "    .colab-df-container {\n",
              "      display:flex;\n",
              "      flex-wrap:wrap;\n",
              "      gap: 12px;\n",
              "    }\n",
              "\n",
              "    .colab-df-convert {\n",
              "      background-color: #E8F0FE;\n",
              "      border: none;\n",
              "      border-radius: 50%;\n",
              "      cursor: pointer;\n",
              "      display: none;\n",
              "      fill: #1967D2;\n",
              "      height: 32px;\n",
              "      padding: 0 0 0 0;\n",
              "      width: 32px;\n",
              "    }\n",
              "\n",
              "    .colab-df-convert:hover {\n",
              "      background-color: #E2EBFA;\n",
              "      box-shadow: 0px 1px 2px rgba(60, 64, 67, 0.3), 0px 1px 3px 1px rgba(60, 64, 67, 0.15);\n",
              "      fill: #174EA6;\n",
              "    }\n",
              "\n",
              "    [theme=dark] .colab-df-convert {\n",
              "      background-color: #3B4455;\n",
              "      fill: #D2E3FC;\n",
              "    }\n",
              "\n",
              "    [theme=dark] .colab-df-convert:hover {\n",
              "      background-color: #434B5C;\n",
              "      box-shadow: 0px 1px 3px 1px rgba(0, 0, 0, 0.15);\n",
              "      filter: drop-shadow(0px 1px 2px rgba(0, 0, 0, 0.3));\n",
              "      fill: #FFFFFF;\n",
              "    }\n",
              "  </style>\n",
              "\n",
              "      <script>\n",
              "        const buttonEl =\n",
              "          document.querySelector('#df-8e46905a-145f-40ee-9484-7df90aae1520 button.colab-df-convert');\n",
              "        buttonEl.style.display =\n",
              "          google.colab.kernel.accessAllowed ? 'block' : 'none';\n",
              "\n",
              "        async function convertToInteractive(key) {\n",
              "          const element = document.querySelector('#df-8e46905a-145f-40ee-9484-7df90aae1520');\n",
              "          const dataTable =\n",
              "            await google.colab.kernel.invokeFunction('convertToInteractive',\n",
              "                                                     [key], {});\n",
              "          if (!dataTable) return;\n",
              "\n",
              "          const docLinkHtml = 'Like what you see? Visit the ' +\n",
              "            '<a target=\"_blank\" href=https://colab.research.google.com/notebooks/data_table.ipynb>data table notebook</a>'\n",
              "            + ' to learn more about interactive tables.';\n",
              "          element.innerHTML = '';\n",
              "          dataTable['output_type'] = 'display_data';\n",
              "          await google.colab.output.renderOutput(dataTable, element);\n",
              "          const docLink = document.createElement('div');\n",
              "          docLink.innerHTML = docLinkHtml;\n",
              "          element.appendChild(docLink);\n",
              "        }\n",
              "      </script>\n",
              "    </div>\n",
              "  </div>\n",
              "  "
            ]
          },
          "metadata": {},
          "execution_count": 28
        }
      ]
    },
    {
      "cell_type": "code",
      "source": [
        "df_train.info()"
      ],
      "metadata": {
        "colab": {
          "base_uri": "https://localhost:8080/"
        },
        "id": "ESWGILWTadj-",
        "outputId": "85332300-5f71-46df-815d-045bef204c9d"
      },
      "execution_count": 29,
      "outputs": [
        {
          "output_type": "stream",
          "name": "stdout",
          "text": [
            "<class 'pandas.core.frame.DataFrame'>\n",
            "Int64Index: 80176 entries, 0 to 80175\n",
            "Data columns (total 13 columns):\n",
            " #   Column            Non-Null Count  Dtype  \n",
            "---  ------            --------------  -----  \n",
            " 0   date              80176 non-null  object \n",
            " 1   org               80176 non-null  object \n",
            " 2   tld               80176 non-null  object \n",
            " 3   ccs               80176 non-null  int64  \n",
            " 4   bcced             80176 non-null  int64  \n",
            " 5   mail_type         80176 non-null  object \n",
            " 6   images            80176 non-null  int64  \n",
            " 7   urls              80176 non-null  int64  \n",
            " 8   salutations       80176 non-null  int64  \n",
            " 9   designation       80176 non-null  int64  \n",
            " 10  chars_in_subject  80176 non-null  float64\n",
            " 11  chars_in_body     80176 non-null  int64  \n",
            " 12  label             80176 non-null  int64  \n",
            "dtypes: float64(1), int64(8), object(4)\n",
            "memory usage: 8.6+ MB\n"
          ]
        }
      ]
    },
    {
      "cell_type": "code",
      "source": [
        "df_test.dtypes"
      ],
      "metadata": {
        "colab": {
          "base_uri": "https://localhost:8080/"
        },
        "id": "ZJFkWG0ggngI",
        "outputId": "165c5cea-c826-45ca-b8de-d3c025f1543c"
      },
      "execution_count": 30,
      "outputs": [
        {
          "output_type": "execute_result",
          "data": {
            "text/plain": [
              "date                 object\n",
              "org                  object\n",
              "tld                  object\n",
              "ccs                   int64\n",
              "bcced                 int64\n",
              "mail_type            object\n",
              "images                int64\n",
              "urls                  int64\n",
              "salutations           int64\n",
              "designation           int64\n",
              "chars_in_subject    float64\n",
              "chars_in_body         int64\n",
              "dtype: object"
            ]
          },
          "metadata": {},
          "execution_count": 30
        }
      ]
    },
    {
      "cell_type": "code",
      "source": [
        "y = df_train['label'].values\n",
        "#X = df_train.drop(['label','timezone'],axis=1)\n",
        "X = df_train.drop(['label'],axis=1)\n",
        "X[\"chars_in_subject\"] = X[\"chars_in_subject\"].astype(np.int) \n",
        "\n",
        "X.info()"
      ],
      "metadata": {
        "colab": {
          "base_uri": "https://localhost:8080/"
        },
        "id": "U6pOxvZQal10",
        "outputId": "0b5361e6-0076-48a1-91a2-a910ab34cb60"
      },
      "execution_count": 31,
      "outputs": [
        {
          "output_type": "stream",
          "name": "stdout",
          "text": [
            "<class 'pandas.core.frame.DataFrame'>\n",
            "Int64Index: 80176 entries, 0 to 80175\n",
            "Data columns (total 12 columns):\n",
            " #   Column            Non-Null Count  Dtype \n",
            "---  ------            --------------  ----- \n",
            " 0   date              80176 non-null  object\n",
            " 1   org               80176 non-null  object\n",
            " 2   tld               80176 non-null  object\n",
            " 3   ccs               80176 non-null  int64 \n",
            " 4   bcced             80176 non-null  int64 \n",
            " 5   mail_type         80176 non-null  object\n",
            " 6   images            80176 non-null  int64 \n",
            " 7   urls              80176 non-null  int64 \n",
            " 8   salutations       80176 non-null  int64 \n",
            " 9   designation       80176 non-null  int64 \n",
            " 10  chars_in_subject  80176 non-null  int64 \n",
            " 11  chars_in_body     80176 non-null  int64 \n",
            "dtypes: int64(8), object(4)\n",
            "memory usage: 8.0+ MB\n"
          ]
        }
      ]
    },
    {
      "cell_type": "code",
      "source": [
        "\n",
        "from catboost import CatBoostClassifier\n",
        "#IMPORT AND ENCODE DATA\n",
        "import pandas as pd\n",
        "import numpy as np\n",
        "from sklearn.preprocessing import LabelEncoder\n",
        "from sklearn.preprocessing import OneHotEncoder\n",
        "import warnings\n",
        "warnings.filterwarnings('ignore')\n",
        "df_train = pd.read_csv('train.csv',index_col=0)\n",
        "df_test = pd.read_csv('test.csv', index_col=0)\n",
        "df_train['org'].fillna(df_train['org'].mode()[0], inplace = True)\n",
        "df_train['tld'].fillna(df_train['tld'].mode()[0], inplace = True)\n",
        "df_train['mail_type'].fillna(df_train['mail_type'].mode()[0], inplace = True)\n",
        "df_train['urls'].fillna(df_train['urls'].mean(), inplace=True)\n",
        "df_train['images'].fillna(df_train['images'].mean(), inplace=True)\n",
        "df_train['chars_in_subject'].fillna(df_train['chars_in_subject'].mean(), inplace=True)\n",
        "df_train['chars_in_body'].fillna(df_train['chars_in_body'].mean(), inplace=True)\n",
        "\n",
        "df_test['org'].fillna(df_test['org'].mode()[0], inplace = True)\n",
        "df_test['tld'].fillna(df_test['tld'].mode()[0], inplace = True)\n",
        "df_test['mail_type'].fillna(df_test['mail_type'].mode()[0], inplace = True)\n",
        "df_test['urls'].fillna(df_test['urls'].mean(), inplace=True)\n",
        "df_test['images'].fillna(df_test['images'].mean(), inplace=True)\n",
        "df_test['chars_in_subject'].fillna(df_test['chars_in_subject'].mean(), inplace=True)\n",
        "df_test['chars_in_body'].fillna(df_test['chars_in_body'].mean(), inplace=True)\n",
        "\n",
        "\n",
        "df_train['mail_type'] = df_train['mail_type'].str.lower()\n",
        "df_test['mail_type'] = df_test['mail_type'].str.lower()\n",
        "y = df_train['label'].values\n",
        "#X = df_train.drop(['label','timezone'],axis=1)\n",
        "X = df_train.drop(['label'],axis=1)\n",
        "X[\"chars_in_subject\"] = X[\"chars_in_subject\"].astype(np.int) \n",
        "\n",
        "X.info()\n",
        "from sklearn.model_selection import train_test_split\n",
        "\n",
        "X_train, X_val, y_train, y_val = train_test_split(X, y, test_size=0.25, random_state=53)\n",
        "\n",
        "# cat_train=['org','tld','mail_type']\n",
        "# cat_test =['org','tld','mail_type']\n",
        "\n",
        "\n",
        "#parameters using the randomized search\n",
        "from catboost import Pool\n",
        "\n",
        "clf = CatBoostClassifier(\n",
        "    iterations=25,\n",
        "    eval_metric='MultiClass',\n",
        "    loss_function='MultiClass',\n",
        "    early_stopping_rounds=10,\n",
        "    classes_count=8,\n",
        "    random_strength=2,\n",
        "    depth=7,\n",
        "    verbose=3\n",
        ")\n",
        "\n",
        "clf.fit(\n",
        "     X_train, y_train,\n",
        "    cat_features=[0,1,2,3,4,5,6,7,8,9,10,11], \n",
        "    plot=True,\n",
        "    use_best_model=True,\n",
        "    eval_set=(X_val, y_val)\n",
        ")\n",
        "\n",
        "print(clf.predict(data=X_val))\n",
        "\n",
        "# X = df\n",
        "X_test = df_test.drop(['date'],axis=1)\n",
        "X_test[\"chars_in_subject\"] = X_test[\"chars_in_subject\"].astype(np.int) \n",
        "\n",
        "\n"
      ],
      "metadata": {
        "colab": {
          "base_uri": "https://localhost:8080/",
          "height": 741,
          "referenced_widgets": [
            "5b369ecd2ed34da69255a0f5889a5e0c"
          ]
        },
        "id": "ThjOJh_Ggux9",
        "outputId": "91be77be-bf7d-4eb2-a046-13873368aebc"
      },
      "execution_count": 32,
      "outputs": [
        {
          "output_type": "stream",
          "name": "stdout",
          "text": [
            "<class 'pandas.core.frame.DataFrame'>\n",
            "Int64Index: 80176 entries, 0 to 80175\n",
            "Data columns (total 12 columns):\n",
            " #   Column            Non-Null Count  Dtype \n",
            "---  ------            --------------  ----- \n",
            " 0   date              80176 non-null  object\n",
            " 1   org               80176 non-null  object\n",
            " 2   tld               80176 non-null  object\n",
            " 3   ccs               80176 non-null  int64 \n",
            " 4   bcced             80176 non-null  int64 \n",
            " 5   mail_type         80176 non-null  object\n",
            " 6   images            80176 non-null  int64 \n",
            " 7   urls              80176 non-null  int64 \n",
            " 8   salutations       80176 non-null  int64 \n",
            " 9   designation       80176 non-null  int64 \n",
            " 10  chars_in_subject  80176 non-null  int64 \n",
            " 11  chars_in_body     80176 non-null  int64 \n",
            "dtypes: int64(8), object(4)\n",
            "memory usage: 8.0+ MB\n"
          ]
        },
        {
          "output_type": "display_data",
          "data": {
            "text/plain": [
              "MetricVisualizer(layout=Layout(align_self='stretch', height='500px'))"
            ],
            "application/vnd.jupyter.widget-view+json": {
              "version_major": 2,
              "version_minor": 0,
              "model_id": "5b369ecd2ed34da69255a0f5889a5e0c"
            }
          },
          "metadata": {}
        },
        {
          "output_type": "stream",
          "name": "stdout",
          "text": [
            "Learning rate set to 0.47962\n",
            "0:\tlearn: 1.1914930\ttest: 1.1819818\tbest: 1.1819818 (0)\ttotal: 1.56s\tremaining: 37.4s\n",
            "3:\tlearn: 0.9099869\ttest: 0.9048844\tbest: 0.9048844 (3)\ttotal: 5.75s\tremaining: 30.2s\n",
            "6:\tlearn: 0.8003959\ttest: 0.7230744\tbest: 0.7230744 (6)\ttotal: 9.87s\tremaining: 25.4s\n",
            "9:\tlearn: 0.7846559\ttest: 0.7058007\tbest: 0.7058007 (9)\ttotal: 13.2s\tremaining: 19.8s\n",
            "12:\tlearn: 0.7614319\ttest: 0.6790260\tbest: 0.6790260 (12)\ttotal: 17.3s\tremaining: 15.9s\n",
            "15:\tlearn: 0.7510400\ttest: 0.6678748\tbest: 0.6678748 (15)\ttotal: 20.8s\tremaining: 11.7s\n",
            "18:\tlearn: 0.7404311\ttest: 0.6561557\tbest: 0.6561557 (18)\ttotal: 24.8s\tremaining: 7.84s\n",
            "21:\tlearn: 0.7345066\ttest: 0.6505680\tbest: 0.6505680 (21)\ttotal: 28.7s\tremaining: 3.92s\n",
            "24:\tlearn: 0.7162732\ttest: 0.6363635\tbest: 0.6363635 (24)\ttotal: 32.8s\tremaining: 0us\n",
            "\n",
            "bestTest = 0.6363635071\n",
            "bestIteration = 24\n",
            "\n",
            "[[3]\n",
            " [1]\n",
            " [1]\n",
            " ...\n",
            " [0]\n",
            " [1]\n",
            " [0]]\n"
          ]
        }
      ]
    },
    {
      "cell_type": "markdown",
      "source": [
        "## XGBoostClassifier "
      ],
      "metadata": {
        "id": "WETlf_AjUSgX"
      }
    },
    {
      "cell_type": "code",
      "source": [
        "from sklearn.linear_model import LogisticRegression\n",
        "import pandas as pd\n",
        "import numpy as np\n",
        "from sklearn.preprocessing import OneHotEncoder\n",
        "from sklearn.neighbors import KNeighborsClassifier\n",
        "from sklearn.metrics import accuracy_score\n",
        "from sklearn.ensemble import RandomForestClassifier\n",
        "\n",
        "## Read csvs\n",
        "train_df = pd.read_csv('train.csv', index_col=0)\n",
        "test_df = pd.read_csv('test.csv', index_col=0)\n",
        "\n",
        "train_df=train_df.assign(mail_type=train_df['mail_type'].str.split('/')).explode('mail_type')\n",
        "test_df=test_df.assign(mail_type=test_df['mail_type'].str.split('/').explode('mail_type'))\n",
        "\n",
        "#imputing missing values (mode/mean)\n",
        "train_df.reset_index(drop=True)\n",
        "test_df.reset_index(drop=True)\n",
        "\n",
        "\n",
        "train_df['org'].fillna(train_df['org'].mode()[0], inplace = True)\n",
        "train_df['tld'].fillna(train_df['tld'].mode()[0], inplace = True)\n",
        "train_df['mail_type'].fillna(train_df['mail_type'].mode()[0], inplace = True)\n",
        "train_df['urls'].fillna(train_df['urls'].mean(), inplace=True)\n",
        "train_df['images'].fillna(train_df['images'].mean(), inplace=True)\n",
        "train_df['chars_in_subject'].fillna(train_df['chars_in_subject'].mean(), inplace=True)\n",
        "train_df['chars_in_body'].fillna(train_df['chars_in_body'].mean(), inplace=True)\n",
        "\n",
        "test_df['org'].fillna(test_df['org'].mode()[0], inplace = True)\n",
        "test_df['tld'].fillna(test_df['tld'].mode()[0], inplace = True)\n",
        "test_df['mail_type'].fillna(test_df['mail_type'].mode()[0], inplace = True)\n",
        "test_df['urls'].fillna(test_df['urls'].mean(), inplace=True)\n",
        "test_df['images'].fillna(test_df['images'].mean(), inplace=True)\n",
        "test_df['chars_in_subject'].fillna(test_df['chars_in_subject'].mean(), inplace=True)\n",
        "test_df['chars_in_body'].fillna(test_df['chars_in_body'].mean(), inplace=True)\n",
        "\n",
        "\n",
        "train_df['mail_type'] = train_df['mail_type'].str.lower()\n",
        "test_df['mail_type'] = test_df['mail_type'].str.lower()\n",
        "#cleaning training dataset\n",
        "\n",
        "train_df['date'] = train_df['date'].str.replace(r' \\(.*\\)', '')\n",
        "train_df['date'] = train_df['date'].str.rstrip()\n",
        "train_df['date'] = train_df['date'].str.replace('-0000', '+0000')\n",
        "#some data points have 0580 as the time which can be changed to 0530 since 0530 appears the mmost\n",
        "train_df['date'] = train_df['date'].str.replace('0580', '0530')\n",
        "!pip3 install dateparser\n",
        "import dateparser\n",
        "#using dateparser since different formats of dates are present. this takes time, but better than manually cconverting each format to unified one\n",
        "train_df['date'] = train_df['date'].apply(dateparser.parse, languages=['en'])\n",
        "\n",
        "#cleaning test dataset (same as above)\n",
        "\n",
        "test_df['date'] = test_df['date'].str.replace(r' \\(.*\\)', '')\n",
        "test_df['date'] = test_df['date'].str.rstrip()\n",
        "test_df['date'] = test_df['date'].str.replace('-0000', '+0000')\n",
        "test_df['date'] = test_df['date'].str.replace('0580', '0530')\n",
        "test_df['date'] = test_df['date'].apply(dateparser.parse, languages=['en'])\n",
        "train_df['year'] = train_df['date'].apply(lambda x:x.year)\n",
        "train_df['month'] = train_df['date'].apply(lambda x:x.month)\n",
        "train_df['day'] = train_df['date'].apply(lambda x:x.day)\n",
        "train_df['hour'] = train_df['date'].apply(lambda x:x.hour)\n",
        "train_df['minute'] = train_df['date'].apply(lambda x:x.minute)\n",
        "train_df['second'] = train_df['date'].apply(lambda x:x.second)\n",
        "train_df['weekday'] = train_df['date'].apply(lambda x:x.weekday())\n",
        "\n",
        "\n",
        "test_df['year'] = test_df['date'].apply(lambda x:x.year)\n",
        "test_df['month'] = test_df['date'].apply(lambda x:x.month)\n",
        "test_df['day'] = test_df['date'].apply(lambda x:x.day)\n",
        "test_df['hour'] = test_df['date'].apply(lambda x:x.hour)\n",
        "test_df['minute'] = test_df['date'].apply(lambda x:x.minute)\n",
        "test_df['second'] = test_df['date'].apply(lambda x:x.second)\n",
        "test_df['weekday'] = test_df['date'].apply(lambda x:x.weekday())\n",
        "\n",
        "# #using dateparser since different formats of dates are present. this takes time, but better than manually cconverting each format to unified one\n",
        "# train_df['date'] = train_df['date'].apply(dateparser.parse, languages=['en'])\n",
        "\n",
        "# #Rescaling features age, trestbps, chol, thalach, oldpeak.\n",
        "# from sklearn.preprocessing import MinMaxScaler\n",
        "# scaler = MinMaxScaler()\n",
        "\n",
        "# features = [['ccs', 'bcced', 'images', 'urls', 'salutations','designation','chars_in_subject','chars_in_body','label']]\n",
        "# for feature in features:\n",
        "#     train_df[feature] = scaler.fit_transform(train_df[feature])\n",
        "#     train_df=train_df[feature]\n",
        "#     #test_df[feature] = scaler.fit_transform(test_df[feature])\n",
        "\n",
        "# features = [['ccs', 'bcced', 'images', 'urls', 'salutations','designation','chars_in_subject','chars_in_body']]\n",
        "# for feature in features:\n",
        "#     test_df[feature] = scaler.fit_transform(test_df[feature])\n",
        "#     test_df=test_df[feature]\n",
        "\n",
        "#try\n",
        "!pip install category_encoders\n",
        "from category_encoders import OrdinalEncoder\n",
        "mapping = [{'col': 'label', 'mapping': {\"Updates\": 0,  \"Personal\": 1, \"Promotional\": 2, \"Forums\":3, \"Purchases:\":4, \"Travel\":5, \"Spam\":6, \"Social\":7}}]\n",
        "OrdinalEncoder(cols=['label'], mapping=mapping).fit(train_df).transform(train_df)\n",
        "#OrdinalEncoder(cols=['label'], mapping=mapping).fit(test_df).transform(test_df)\n",
        "from category_encoders import OneHotEncoder\n",
        "OneHotEncoder(cols=['mail_type','ccs', 'bcced', 'images', 'urls', 'salutations','designation']).fit(train_df).transform(train_df)\n",
        "\n",
        "## Filtering column \"mail_type\"\n",
        "train_x = train_df[['ccs', 'bcced', 'images', 'urls', 'salutations','designation','chars_in_subject','chars_in_body']]\n",
        "#train_x=train_df\n",
        "train_x = train_x.fillna(value='None')\n",
        "train_y = train_df[['label']]\n",
        "\n",
        "test_x = test_df[['ccs', 'bcced', 'images', 'urls', 'salutations','designation','chars_in_subject','chars_in_body']]\n",
        "#test_x=train_df\n",
        "test_x = test_x.fillna(value='None')\n",
        "\n",
        "\n",
        "# ## Do one hot encoding of categorical feature\n",
        "# feat_enc = OneHotEncoder()\n",
        "# feat_enc.fit(np.vstack([train_x, test_x]))\n",
        "# train_x_featurized = feat_enc.transform(train_x)\n",
        "# test_x_featurized = feat_enc.transform(test_x)\n",
        "\n",
        "# from numpy import loadtxt\n",
        "# from xgboost import XGBClassifier\n",
        "# from sklearn.model_selection import train_test_split\n",
        "# #fit model no training data\n",
        "# model = XGBClassifier()\n",
        "# model.fit(train_x, train_y)\n",
        "# print(model)\n",
        "\n",
        "import xgboost as xgb\n",
        "# from sklearn.datasets import load_boston\n",
        "from sklearn.model_selection import train_test_split\n",
        "from sklearn.metrics import mean_squared_error\n",
        " \n",
        "# boston = load_boston()\n",
        "x, y = train_x,train_y\n",
        "dmatrix = xgb.DMatrix(data=x, label=y)\n",
        "params = {\n",
        "    'booster': 'gbtree',\n",
        "    'objective': 'multi:softmax',\n",
        "    'num_class': 8,\n",
        "    'gamma': 0.1,\n",
        "    'max_depth': 3,\n",
        "    'lambda': 2,\n",
        "    'subsample': 0.7,\n",
        "    'seed': 1000,\n",
        "    'nthread': 4,\n",
        "    'learning_rate':1.05,\n",
        "    'random_state':20,\n",
        "    'eta': 0.01, \n",
        "    'colsample_bytree': 0.7,\n",
        "    'min_child_weight': 3,}\n",
        "\n",
        "\n",
        "# params={ 'objective':'reg:squarederror',\n",
        "#          'max_depth': 6, \n",
        "#          'colsample_bylevel':0.01,\n",
        "#          'learning_rate':0.9,\n",
        "#          'random_state':20}\n",
        "# cv_results = xgb.cv(dtrain=dmatrix, params=params, nfold=10, metrics={'rmse'}, as_pandas=True, seed=20, num_boost_round=1000)\n",
        "\n",
        "# print('RMSE: %.2f' % cv_results['test-rmse-mean'].min())\n",
        "\n",
        "dtrain = xgb.DMatrix(train_x, train_y)\n",
        "dtest = xgb.DMatrix(test_x)\n",
        "num_rounds = 100\n",
        "model = xgb.train(params, dtrain, num_rounds)\n",
        "y_pred = model.predict(dtest)\n",
        "# pred = model.predict(dtest)\n",
        "\n",
        "# params = {\n",
        "#     'booster': 'gbtree',\n",
        "#     'objective': 'multi:softmax',\n",
        "#     'num_class': 8,\n",
        "#     'gamma': 0.1,\n",
        "#     'max_depth': 10,\n",
        "#     'lambda': 2,\n",
        "#     'subsample': 0.7,\n",
        "    # 'colsample_bytree': 0.7,\n",
        "    # 'min_child_weight': 3,\n",
        "    # 'silent': 0,\n",
        "    # 'eta': 0.01,\n",
        "    # 'seed': 1000,\n",
        "    # 'nthread': 4,\n",
        "# }\n",
        "# dtrain = xgb.DMatrix(X_training, y_training)\n",
        "# dtest = xgb.DMatrix(X_test_data, y_test_data)\n",
        "# num_rounds = 50\n",
        "# model = xgb.train(params, dtrain, num_rounds)\n",
        "# pred = model.predict(dtest)\n",
        "\n",
        "# # make predictions for test data\n",
        "# y_pred = model.predict(test_x)\n",
        "y_pred = [round(value) for value in y_pred]\n",
        "\n",
        "#accuracy = accuracy_score('/content/sample_submission.csv', y_pred)\n",
        "#print(\"The accuracy of prediction is: \", accuracy)\n",
        "\n",
        "# ## Save results to submission file\n",
        "pred_df = pd.DataFrame(y_pred, columns=['label'])\n",
        "pred_df.to_csv(\"xgb.csv\", index=True, index_label='Id')"
      ],
      "metadata": {
        "id": "UZoZpfl1TNKc",
        "colab": {
          "base_uri": "https://localhost:8080/"
        },
        "outputId": "91802c6d-0d99-4684-b3aa-6466ee163563"
      },
      "execution_count": 1,
      "outputs": [
        {
          "output_type": "stream",
          "name": "stderr",
          "text": [
            "<ipython-input-1-909b659f7e81>:42: FutureWarning: The default value of regex will change from True to False in a future version.\n",
            "  train_df['date'] = train_df['date'].str.replace(r' \\(.*\\)', '')\n"
          ]
        },
        {
          "output_type": "stream",
          "name": "stdout",
          "text": [
            "Looking in indexes: https://pypi.org/simple, https://us-python.pkg.dev/colab-wheels/public/simple/\n",
            "Collecting dateparser\n",
            "  Downloading dateparser-1.1.4-py2.py3-none-any.whl (292 kB)\n",
            "\u001b[K     |████████████████████████████████| 292 kB 4.9 MB/s \n",
            "\u001b[?25hRequirement already satisfied: python-dateutil in /usr/local/lib/python3.8/dist-packages (from dateparser) (2.8.2)\n",
            "Requirement already satisfied: tzlocal in /usr/local/lib/python3.8/dist-packages (from dateparser) (1.5.1)\n",
            "Requirement already satisfied: regex!=2019.02.19,!=2021.8.27 in /usr/local/lib/python3.8/dist-packages (from dateparser) (2022.6.2)\n",
            "Requirement already satisfied: pytz in /usr/local/lib/python3.8/dist-packages (from dateparser) (2022.6)\n",
            "Requirement already satisfied: six>=1.5 in /usr/local/lib/python3.8/dist-packages (from python-dateutil->dateparser) (1.15.0)\n",
            "Installing collected packages: dateparser\n",
            "Successfully installed dateparser-1.1.4\n"
          ]
        },
        {
          "output_type": "stream",
          "name": "stderr",
          "text": [
            "<ipython-input-1-909b659f7e81>:54: FutureWarning: The default value of regex will change from True to False in a future version.\n",
            "  test_df['date'] = test_df['date'].str.replace(r' \\(.*\\)', '')\n"
          ]
        },
        {
          "output_type": "stream",
          "name": "stdout",
          "text": [
            "Looking in indexes: https://pypi.org/simple, https://us-python.pkg.dev/colab-wheels/public/simple/\n",
            "Collecting category_encoders\n",
            "  Downloading category_encoders-2.5.1.post0-py2.py3-none-any.whl (72 kB)\n",
            "\u001b[?25l\r\u001b[K     |████▌                           | 10 kB 10.4 MB/s eta 0:00:01\r\u001b[K     |█████████                       | 20 kB 8.0 MB/s eta 0:00:01\r\u001b[K     |█████████████▋                  | 30 kB 11.2 MB/s eta 0:00:01\r\u001b[K     |██████████████████              | 40 kB 4.7 MB/s eta 0:00:01\r\u001b[K     |██████████████████████▋         | 51 kB 4.3 MB/s eta 0:00:01\r\u001b[K     |███████████████████████████▏    | 61 kB 5.1 MB/s eta 0:00:01\r\u001b[K     |███████████████████████████████▊| 71 kB 5.9 MB/s eta 0:00:01\r\u001b[K     |████████████████████████████████| 72 kB 691 kB/s \n",
            "\u001b[?25hRequirement already satisfied: scipy>=1.0.0 in /usr/local/lib/python3.8/dist-packages (from category_encoders) (1.7.3)\n",
            "Requirement already satisfied: patsy>=0.5.1 in /usr/local/lib/python3.8/dist-packages (from category_encoders) (0.5.3)\n",
            "Requirement already satisfied: pandas>=1.0.5 in /usr/local/lib/python3.8/dist-packages (from category_encoders) (1.3.5)\n",
            "Requirement already satisfied: scikit-learn>=0.20.0 in /usr/local/lib/python3.8/dist-packages (from category_encoders) (1.0.2)\n",
            "Requirement already satisfied: statsmodels>=0.9.0 in /usr/local/lib/python3.8/dist-packages (from category_encoders) (0.12.2)\n",
            "Requirement already satisfied: numpy>=1.14.0 in /usr/local/lib/python3.8/dist-packages (from category_encoders) (1.21.6)\n",
            "Requirement already satisfied: pytz>=2017.3 in /usr/local/lib/python3.8/dist-packages (from pandas>=1.0.5->category_encoders) (2022.6)\n",
            "Requirement already satisfied: python-dateutil>=2.7.3 in /usr/local/lib/python3.8/dist-packages (from pandas>=1.0.5->category_encoders) (2.8.2)\n",
            "Requirement already satisfied: six in /usr/local/lib/python3.8/dist-packages (from patsy>=0.5.1->category_encoders) (1.15.0)\n",
            "Requirement already satisfied: threadpoolctl>=2.0.0 in /usr/local/lib/python3.8/dist-packages (from scikit-learn>=0.20.0->category_encoders) (3.1.0)\n",
            "Requirement already satisfied: joblib>=0.11 in /usr/local/lib/python3.8/dist-packages (from scikit-learn>=0.20.0->category_encoders) (1.2.0)\n",
            "Installing collected packages: category-encoders\n",
            "Successfully installed category-encoders-2.5.1.post0\n"
          ]
        }
      ]
    },
    {
      "cell_type": "markdown",
      "source": [
        "## Random Forest classifier\n"
      ],
      "metadata": {
        "id": "4ZjMVvEEUw6P"
      }
    },
    {
      "cell_type": "code",
      "source": [
        "from sklearn.linear_model import LogisticRegression\n",
        "import pandas as pd\n",
        "import numpy as np\n",
        "from sklearn.preprocessing import OneHotEncoder\n",
        "from sklearn.neighbors import KNeighborsClassifier\n",
        "from sklearn.metrics import accuracy_score\n",
        "from sklearn.ensemble import RandomForestClassifier\n",
        "\n",
        "## Read csvs\n",
        "train_df = pd.read_csv('train.csv', index_col=0)\n",
        "test_df = pd.read_csv('test.csv', index_col=0)\n",
        "\n",
        "train_df=train_df.assign(mail_type=train_df['mail_type'].str.split('/')).explode('mail_type')\n",
        "test_df=test_df.assign(mail_type=test_df['mail_type'].str.split('/').explode('mail_type'))\n",
        "\n",
        "#create a text/image ratio\n",
        "# train_df['ratio']=(train_df['images']+train_df['urls']+train_df['chars_in_body'])/train_df['chars_in_body']\n",
        "# test_df['ratio']=(test_df['images']+test_df['urls']+test_df['chars_in_body'])/test_df['chars_in_body']\n",
        "\n",
        "\n",
        "\n",
        "## Filtering column \"mail_type\"\n",
        "train_x = train_df[['designation','salutations']]\n",
        "train_x = train_x.fillna(value='None')\n",
        "train_y = train_df[['label']]\n",
        "\n",
        "test_x = test_df[['designation','salutations']]\n",
        "test_x = test_x.fillna(value='None')\n",
        "\n",
        "## Do one hot encoding of categorical feature\n",
        "# feat_enc = OneHotEncoder()\n",
        "# feat_enc.fit(np.vstack([train_x, test_x]))\n",
        "# train_x_featurized = feat_enc.transform(train_df['mail_type'])\n",
        "# test_x_featurized = feat_enc.transform(test_df['mail_type'])\n",
        "\n",
        "## Train a simple KNN classifier using featurized data\n",
        "clf = RandomForestClassifier(max_depth=2, random_state=0)\n",
        "clf.fit(train_x, train_y)\n",
        "pred_y=clf.predict(test_x)\n",
        "# =neigh = KNeighborsClassifier(n_neighbors=3)\n",
        "# neigh.fit(train_x, train_y)\n",
        "# pred_y = neigh.predict(test_x)\n",
        "\n",
        "## Save results to submission file\n",
        "pred_df = pd.DataFrame(pred_y, columns=['label'])\n",
        "pred_df.to_csv(\"knn_RF.csv\", index=True, index_label='Id')"
      ],
      "metadata": {
        "colab": {
          "base_uri": "https://localhost:8080/"
        },
        "id": "VDJ8QqcpU4M9",
        "outputId": "091265a5-e024-4267-d196-672c26dee6e7"
      },
      "execution_count": 3,
      "outputs": [
        {
          "output_type": "stream",
          "name": "stderr",
          "text": [
            "<ipython-input-3-d1a7ab34bbb4>:38: DataConversionWarning: A column-vector y was passed when a 1d array was expected. Please change the shape of y to (n_samples,), for example using ravel().\n",
            "  clf.fit(train_x, train_y)\n"
          ]
        }
      ]
    }
  ]
}